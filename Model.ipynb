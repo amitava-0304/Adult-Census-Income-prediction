{
 "cells": [
  {
   "cell_type": "markdown",
   "id": "2b7f67e4",
   "metadata": {},
   "source": [
    "# Importing Libraries"
   ]
  },
  {
   "cell_type": "code",
   "execution_count": 1,
   "id": "e02dbfea",
   "metadata": {},
   "outputs": [],
   "source": [
    "import pandas as pd\n",
    "import numpy as np\n",
    "import warnings\n",
    "warnings.filterwarnings(\"ignore\")\n",
    "from sklearn.linear_model import LogisticRegression\n",
    "from sklearn.svm import SVC\n",
    "from sklearn import preprocessing\n",
    "from statsmodels.stats.outliers_influence import variance_inflation_factor\n",
    "from sklearn.model_selection import train_test_split\n",
    "from sklearn.preprocessing import StandardScaler\n",
    "from sklearn import metrics\n",
    "import pymongo\n",
    "import setup\n",
    "import category_encoders as ce\n",
    "from pickle import load\n",
    "from sklearn.model_selection import train_test_split,cross_val_score,GridSearchCV\n",
    "from sklearn.metrics import accuracy_score,confusion_matrix,classification_report,roc_curve, auc\n",
    "from datetime import datetime\n",
    "from sklearn.feature_selection import RFE\n",
    "import matplotlib.pyplot as plt\n",
    "%matplotlib inline\n",
    "from sklearn.metrics import roc_curve\n",
    "from sklearn.metrics import roc_auc_score"
   ]
  },
  {
   "cell_type": "markdown",
   "id": "d42dce1d",
   "metadata": {},
   "source": [
    "# Load the dataset from Mongodb"
   ]
  },
  {
   "cell_type": "code",
   "execution_count": 2,
   "id": "1b1dba8d",
   "metadata": {},
   "outputs": [],
   "source": [
    "path=setup.get_mongodb_url()\n",
    "client = pymongo.MongoClient(path)\n",
    "db = client[\"Adult-Census-Income\"]\n",
    "data_from_db = db.User_Income_Data.find({},{'_id':0})\n",
    "census_df=pd.DataFrame.from_dict(data_from_db)"
   ]
  },
  {
   "cell_type": "code",
   "execution_count": 3,
   "id": "eaf20968",
   "metadata": {},
   "outputs": [
    {
     "data": {
      "text/html": [
       "<div>\n",
       "<style scoped>\n",
       "    .dataframe tbody tr th:only-of-type {\n",
       "        vertical-align: middle;\n",
       "    }\n",
       "\n",
       "    .dataframe tbody tr th {\n",
       "        vertical-align: top;\n",
       "    }\n",
       "\n",
       "    .dataframe thead th {\n",
       "        text-align: right;\n",
       "    }\n",
       "</style>\n",
       "<table border=\"1\" class=\"dataframe\">\n",
       "  <thead>\n",
       "    <tr style=\"text-align: right;\">\n",
       "      <th></th>\n",
       "      <th>age</th>\n",
       "      <th>workclass</th>\n",
       "      <th>fnlwgt</th>\n",
       "      <th>education</th>\n",
       "      <th>marital.status</th>\n",
       "      <th>occupation</th>\n",
       "      <th>relationship</th>\n",
       "      <th>race</th>\n",
       "      <th>sex</th>\n",
       "      <th>capital.gain</th>\n",
       "      <th>capital.loss</th>\n",
       "      <th>hours.per.week</th>\n",
       "      <th>native.country</th>\n",
       "      <th>income</th>\n",
       "    </tr>\n",
       "  </thead>\n",
       "  <tbody>\n",
       "    <tr>\n",
       "      <th>0</th>\n",
       "      <td>90</td>\n",
       "      <td>Private</td>\n",
       "      <td>77053</td>\n",
       "      <td>HS-grad</td>\n",
       "      <td>Widowed</td>\n",
       "      <td>Prof-specialty</td>\n",
       "      <td>Not-in-family</td>\n",
       "      <td>White</td>\n",
       "      <td>Female</td>\n",
       "      <td>0</td>\n",
       "      <td>4356</td>\n",
       "      <td>40</td>\n",
       "      <td>United-States</td>\n",
       "      <td>0</td>\n",
       "    </tr>\n",
       "    <tr>\n",
       "      <th>1</th>\n",
       "      <td>82</td>\n",
       "      <td>Private</td>\n",
       "      <td>132870</td>\n",
       "      <td>HS-grad</td>\n",
       "      <td>Widowed</td>\n",
       "      <td>Exec-managerial</td>\n",
       "      <td>Not-in-family</td>\n",
       "      <td>White</td>\n",
       "      <td>Female</td>\n",
       "      <td>0</td>\n",
       "      <td>4356</td>\n",
       "      <td>18</td>\n",
       "      <td>United-States</td>\n",
       "      <td>0</td>\n",
       "    </tr>\n",
       "    <tr>\n",
       "      <th>2</th>\n",
       "      <td>66</td>\n",
       "      <td>Private</td>\n",
       "      <td>186061</td>\n",
       "      <td>Some-college</td>\n",
       "      <td>Widowed</td>\n",
       "      <td>Prof-specialty</td>\n",
       "      <td>Unmarried</td>\n",
       "      <td>Black</td>\n",
       "      <td>Female</td>\n",
       "      <td>0</td>\n",
       "      <td>4356</td>\n",
       "      <td>40</td>\n",
       "      <td>United-States</td>\n",
       "      <td>0</td>\n",
       "    </tr>\n",
       "    <tr>\n",
       "      <th>3</th>\n",
       "      <td>54</td>\n",
       "      <td>Private</td>\n",
       "      <td>140359</td>\n",
       "      <td>Elementary_Middle_school</td>\n",
       "      <td>Separated</td>\n",
       "      <td>Machine-op-inspct</td>\n",
       "      <td>Unmarried</td>\n",
       "      <td>White</td>\n",
       "      <td>Female</td>\n",
       "      <td>0</td>\n",
       "      <td>3900</td>\n",
       "      <td>40</td>\n",
       "      <td>United-States</td>\n",
       "      <td>0</td>\n",
       "    </tr>\n",
       "    <tr>\n",
       "      <th>4</th>\n",
       "      <td>41</td>\n",
       "      <td>Private</td>\n",
       "      <td>264663</td>\n",
       "      <td>Some-college</td>\n",
       "      <td>Separated</td>\n",
       "      <td>Prof-specialty</td>\n",
       "      <td>Own-child</td>\n",
       "      <td>White</td>\n",
       "      <td>Female</td>\n",
       "      <td>0</td>\n",
       "      <td>3900</td>\n",
       "      <td>40</td>\n",
       "      <td>United-States</td>\n",
       "      <td>0</td>\n",
       "    </tr>\n",
       "  </tbody>\n",
       "</table>\n",
       "</div>"
      ],
      "text/plain": [
       "   age workclass  fnlwgt                 education marital.status  \\\n",
       "0   90   Private   77053                   HS-grad        Widowed   \n",
       "1   82   Private  132870                   HS-grad        Widowed   \n",
       "2   66   Private  186061              Some-college        Widowed   \n",
       "3   54   Private  140359  Elementary_Middle_school      Separated   \n",
       "4   41   Private  264663              Some-college      Separated   \n",
       "\n",
       "          occupation   relationship   race     sex  capital.gain  \\\n",
       "0     Prof-specialty  Not-in-family  White  Female             0   \n",
       "1    Exec-managerial  Not-in-family  White  Female             0   \n",
       "2     Prof-specialty      Unmarried  Black  Female             0   \n",
       "3  Machine-op-inspct      Unmarried  White  Female             0   \n",
       "4     Prof-specialty      Own-child  White  Female             0   \n",
       "\n",
       "   capital.loss  hours.per.week native.country  income  \n",
       "0          4356              40  United-States       0  \n",
       "1          4356              18  United-States       0  \n",
       "2          4356              40  United-States       0  \n",
       "3          3900              40  United-States       0  \n",
       "4          3900              40  United-States       0  "
      ]
     },
     "execution_count": 3,
     "metadata": {},
     "output_type": "execute_result"
    }
   ],
   "source": [
    "census_df.head()"
   ]
  },
  {
   "cell_type": "markdown",
   "id": "a7fa5d56",
   "metadata": {},
   "source": [
    "# Load Model and Data Scaler"
   ]
  },
  {
   "cell_type": "code",
   "execution_count": 4,
   "id": "f06b4f2b",
   "metadata": {},
   "outputs": [],
   "source": [
    "# load the SVC Model\n",
    "clf_SVC = load(open('model_SVC.pkl', 'rb'))\n",
    "# load the LogisticRegression Model\n",
    "clf_logreg = load(open('model_Logistic.pkl', 'rb'))\n",
    "# load the scaler\n",
    "scaler = load(open('scaler.pkl', 'rb'))"
   ]
  },
  {
   "cell_type": "markdown",
   "id": "94013632",
   "metadata": {},
   "source": [
    "# Splitting of the Data"
   ]
  },
  {
   "cell_type": "code",
   "execution_count": 5,
   "id": "919b5804",
   "metadata": {},
   "outputs": [],
   "source": [
    "y = census_df['income']\n",
    "X = census_df.drop('income', axis = 1)"
   ]
  },
  {
   "cell_type": "code",
   "execution_count": 6,
   "id": "06a0b5b6",
   "metadata": {},
   "outputs": [
    {
     "data": {
      "text/plain": [
       "['workclass',\n",
       " 'education',\n",
       " 'marital.status',\n",
       " 'occupation',\n",
       " 'relationship',\n",
       " 'race',\n",
       " 'sex',\n",
       " 'native.country']"
      ]
     },
     "execution_count": 6,
     "metadata": {},
     "output_type": "execute_result"
    }
   ],
   "source": [
    "category_var = [col for col in X.columns if X[col].dtypes == object]\n",
    "category_var"
   ]
  },
  {
   "cell_type": "code",
   "execution_count": 7,
   "id": "4497e64a",
   "metadata": {},
   "outputs": [
    {
     "data": {
      "text/plain": [
       "['age', 'fnlwgt', 'capital.gain', 'capital.loss', 'hours.per.week']"
      ]
     },
     "execution_count": 7,
     "metadata": {},
     "output_type": "execute_result"
    }
   ],
   "source": [
    "numeric_var = [col for col in X.columns if X[col].dtypes != object]\n",
    "numeric_var"
   ]
  },
  {
   "cell_type": "code",
   "execution_count": 8,
   "id": "674f5482",
   "metadata": {},
   "outputs": [],
   "source": [
    "X_train, X_test, y_train, y_test = train_test_split(X, y, random_state = 1, test_size = 0.2) "
   ]
  },
  {
   "cell_type": "code",
   "execution_count": 9,
   "id": "d8aa3312",
   "metadata": {},
   "outputs": [],
   "source": [
    "one_hot = ce.OneHotEncoder(cols = category_var, handle_unknown = 'ignore')\n",
    "\n",
    "# Creating dataframe for categorical variables which converted to one hot encoded variables.\n",
    "X_train_one_hot = pd.DataFrame(one_hot.fit_transform(X_train))\n",
    "X_test_one_hot = pd.DataFrame(one_hot.transform(X_test))\n",
    "\n",
    "\n",
    "X_train_one_hot.index = X_train.index\n",
    "X_test_one_hot.index = X_test.index\n",
    "\n",
    "num_X_train = X_train[numeric_var]\n",
    "num_X_test = X_test[numeric_var]\n",
    "\n",
    "# Joining numerical and one hot encoded variables to create our final X_train and X_test.\n",
    "X_train_new = pd.concat([num_X_train, X_train_one_hot], axis = 1)\n",
    "X_test_new = pd.concat([num_X_test, X_test_one_hot], axis = 1)\n"
   ]
  },
  {
   "cell_type": "markdown",
   "id": "5412870b",
   "metadata": {},
   "source": [
    "# Scaled the data from saved Data Scaler"
   ]
  },
  {
   "cell_type": "code",
   "execution_count": 10,
   "id": "b2c2e06a",
   "metadata": {},
   "outputs": [],
   "source": [
    "X_train_new = scaler.transform(X_train_new)\n",
    "X_test_new = scaler.transform(X_test_new)"
   ]
  },
  {
   "cell_type": "markdown",
   "id": "05bb81a3",
   "metadata": {},
   "source": [
    "# Check accuracy from the saved Model"
   ]
  },
  {
   "cell_type": "code",
   "execution_count": 26,
   "id": "5c7aaa74",
   "metadata": {},
   "outputs": [
    {
     "name": "stdout",
     "output_type": "stream",
     "text": [
      "Logistic Regression accuracy score:85.14%\n",
      "Logistic Regression ROC score:76.43%\n"
     ]
    }
   ],
   "source": [
    "# Logistic Regression\n",
    "pred_logr = clf_logreg.predict(X_test_new)\n",
    "ac_lr=accuracy_score(y_test, pred_logr)\n",
    "roc_logr =roc_auc_score(y_test,pred_logr)\n",
    "print('Logistic Regression accuracy score:{0:0.2f}%'. format(ac_lr*100))\n",
    "print('Logistic Regression ROC score:{0:0.2f}%'. format(roc_logr*100))    "
   ]
  },
  {
   "cell_type": "code",
   "execution_count": 28,
   "id": "aeef05b1",
   "metadata": {},
   "outputs": [
    {
     "name": "stdout",
     "output_type": "stream",
     "text": [
      "SVC accuracy score:85.34%\n",
      "SVC ROC score:76.33%\n"
     ]
    }
   ],
   "source": [
    "y_pred = clf_SVC.predict(X_test_new)\n",
    "ac_svc=accuracy_score(y_test,y_pred)\n",
    "roc_svc =roc_auc_score(y_test,y_pred)\n",
    "print('SVC accuracy score:{0:0.2f}%'. format(ac_svc*100))\n",
    "print('SVC ROC score:{0:0.2f}%'. format(roc_svc*100))"
   ]
  },
  {
   "cell_type": "code",
   "execution_count": 13,
   "id": "24a931fc",
   "metadata": {},
   "outputs": [],
   "source": [
    "models = {clf_logreg:'LogisticRegression',\n",
    "          clf_SVC: 'SVC',\n",
    "          }"
   ]
  },
  {
   "cell_type": "markdown",
   "id": "f878e73c",
   "metadata": {},
   "source": [
    "# Report in details"
   ]
  },
  {
   "cell_type": "code",
   "execution_count": 14,
   "id": "6e7b50ec",
   "metadata": {},
   "outputs": [],
   "source": [
    "# train function fits the model and returns accuracy score\n",
    "def train(algo,name,X_train,y_train,X_test,y_test):\n",
    "    algo.fit(X_train,y_train)\n",
    "    y_pred = algo.predict(X_test)\n",
    "    score = accuracy_score(y_test,y_pred)\n",
    "    print(f\"--------------------------------------------{name}---------------------------------------------------\")\n",
    "    print(f\"Accuracy Score for {name}: {score*100:.4f}%\")\n",
    "    return y_test,y_pred,score\n",
    "\n",
    "# acc_res function calculates confusion matrix\n",
    "def acc_res(y_test,y_pred):\n",
    "    null_accuracy = y_test.value_counts()[0]/len(y_test)\n",
    "    print(f\"Null Accuracy: {null_accuracy*100:.4f}%\")\n",
    "    print(\"Confusion Matrix\")\n",
    "    matrix = confusion_matrix(y_test,y_pred)\n",
    "    print(matrix)\n",
    "    print(\"+++++++++++++++++++++++++++++++++++++++++++++++++++++++++++++++++++++++++++\")\n",
    "    TN = matrix[0,0]\n",
    "    FP = matrix[0,1]\n",
    "    FN = matrix[1,0]\n",
    "    TP = matrix[1,1]\n",
    "    accuracy_score=(TN+TP) / float(TP+TN+FP+FN)\n",
    "    recall_score = (TP)/ float(TP+FN)\n",
    "    specificity = TN / float(TN+FP)\n",
    "    FPR = FP / float(FP+TN)\n",
    "    precision_score = TP / float(TP+FP)\n",
    "    print(f\"Accuracy Score: {accuracy_score*100:.4f}%\")\n",
    "    print(f\"Recall Score: {recall_score*100:.4f}%\")\n",
    "    print(f\"Specificity Score: {specificity*100:.4f}%\")\n",
    "    print(f\"False Positive Rate: {FPR*100:.4f}%\")\n",
    "    print(f\"Precision Score: {precision_score*100:.4f}%\")\n",
    "    print(\"+++++++++++++++++++++++++++++++++++++++++++++++++++++++++++++++++++++++++++\")\n",
    "    print(\"Classification Report\")\n",
    "    print(classification_report(y_test,y_pred))\n",
    "    \n",
    "def main(models):\n",
    "    accuracy_scores = []\n",
    "    for algo,name in models.items():\n",
    "        y_test_train,y_pred,acc_score = train(algo,name,X_train_new,y_train,X_test_new,y_test)\n",
    "        acc_res(y_test_train,y_pred)\n",
    "        accuracy_scores.append(acc_score)\n",
    "    return accuracy_scores\n",
    "  "
   ]
  },
  {
   "cell_type": "code",
   "execution_count": 28,
   "id": "f00717a9",
   "metadata": {},
   "outputs": [
    {
     "name": "stdout",
     "output_type": "stream",
     "text": [
      "--------------------------------------------LogisticRegression---------------------------------------------------\n",
      "Accuracy Score for LogisticRegression: 85.1414%\n",
      "Null Accuracy: 75.4763%\n",
      "Confusion Matrix\n",
      "[[4594  318]\n",
      " [ 649  947]]\n",
      "+++++++++++++++++++++++++++++++++++++++++++++++++++++++++++++++++++++++++++\n",
      "Accuracy Score: 85.1414%\n",
      "Recall Score: 59.3358%\n",
      "Specificity Score: 93.5261%\n",
      "False Positive Rate: 6.4739%\n",
      "Precision Score: 74.8617%\n",
      "+++++++++++++++++++++++++++++++++++++++++++++++++++++++++++++++++++++++++++\n",
      "Classification Report\n",
      "              precision    recall  f1-score   support\n",
      "\n",
      "           0       0.88      0.94      0.90      4912\n",
      "           1       0.75      0.59      0.66      1596\n",
      "\n",
      "    accuracy                           0.85      6508\n",
      "   macro avg       0.81      0.76      0.78      6508\n",
      "weighted avg       0.84      0.85      0.85      6508\n",
      "\n",
      "--------------------------------------------SVC---------------------------------------------------\n",
      "Accuracy Score for SVC: 85.3411%\n",
      "Null Accuracy: 75.4763%\n",
      "Confusion Matrix\n",
      "[[4618  294]\n",
      " [ 660  936]]\n",
      "+++++++++++++++++++++++++++++++++++++++++++++++++++++++++++++++++++++++++++\n",
      "Accuracy Score: 85.3411%\n",
      "Recall Score: 58.6466%\n",
      "Specificity Score: 94.0147%\n",
      "False Positive Rate: 5.9853%\n",
      "Precision Score: 76.0976%\n",
      "+++++++++++++++++++++++++++++++++++++++++++++++++++++++++++++++++++++++++++\n",
      "Classification Report\n",
      "              precision    recall  f1-score   support\n",
      "\n",
      "           0       0.87      0.94      0.91      4912\n",
      "           1       0.76      0.59      0.66      1596\n",
      "\n",
      "    accuracy                           0.85      6508\n",
      "   macro avg       0.82      0.76      0.78      6508\n",
      "weighted avg       0.85      0.85      0.85      6508\n",
      "\n"
     ]
    }
   ],
   "source": [
    "accuracy_scores = main(models)  "
   ]
  },
  {
   "cell_type": "markdown",
   "id": "c6de0f21",
   "metadata": {},
   "source": [
    "# SVM Hyperparameter Tuning using GridSearchCV"
   ]
  },
  {
   "cell_type": "code",
   "execution_count": null,
   "id": "b3a94d94",
   "metadata": {},
   "outputs": [],
   "source": [
    "#Grid search for best model and parameters\n",
    "from sklearn.model_selection import GridSearchCV\n",
    "param_grid = { 'C':[0.1,1,100,1000],'kernel':['rbf','poly','sigmoid','linear'],'degree':[1,2,3,4,5,6],\n",
    "              'gamma': [1, 0.1, 0.01, 0.001, 0.0001]}\n",
    "grid = GridSearchCV(clf_SVC,param_grid)\n",
    "grid.fit(X_train_new,y_train)\n",
    "best_accuracy = grid.best_score_\n",
    "best_parameters = grid.best_params_\n",
    "#here is the best accuracy\n",
    "#best_accuracy"
   ]
  },
  {
   "cell_type": "code",
   "execution_count": 45,
   "id": "419e6f2d",
   "metadata": {},
   "outputs": [
    {
     "name": "stdout",
     "output_type": "stream",
     "text": [
      "SVC accuracy score:85.25%\n",
      "SVC ROC score:76.04%\n"
     ]
    }
   ],
   "source": [
    "# Fitting Kernel SVM to the Training set with best parameters\n",
    "classifier = SVC(kernel = 'rbf', gamma = 0.01)\n",
    "classifier.fit(X_train_new, y_train)\n",
    "\n",
    "#Predicting the Test Set\n",
    "y_pred = classifier.predict(X_test_new)\n",
    "ac_svc_tuned=accuracy_score(y_test,y_pred)\n",
    "roc_svc_tuned =roc_auc_score(y_test,y_pred)\n",
    "print('SVC accuracy score:{0:0.2f}%'. format(ac_svc_tuned*100))\n",
    "print('SVC ROC score:{0:0.2f}%'. format(roc_svc_tuned*100))"
   ]
  },
  {
   "cell_type": "markdown",
   "id": "d6723f85",
   "metadata": {},
   "source": [
    "# Logistic Regression Hyperparameter Tuning using GridSearchCV"
   ]
  },
  {
   "cell_type": "code",
   "execution_count": 20,
   "id": "dd7c8fcb",
   "metadata": {},
   "outputs": [],
   "source": [
    "# parameter grid\n",
    "parameters = {\n",
    "    'penalty' : ['l1','l2'], \n",
    "    'C'       : np.logspace(-3,3,7),\n",
    "    'solver'  : ['newton-cg', 'lbfgs', 'liblinear'],\n",
    "}"
   ]
  },
  {
   "cell_type": "code",
   "execution_count": 21,
   "id": "273ee23e",
   "metadata": {},
   "outputs": [
    {
     "name": "stdout",
     "output_type": "stream",
     "text": [
      "Tuned Hyperparameters : {'C': 0.01, 'penalty': 'l2', 'solver': 'liblinear'}\n",
      "Accuracy : 0.8486237130160523\n"
     ]
    }
   ],
   "source": [
    "clf = GridSearchCV(clf_logreg,                    # model\n",
    "                   param_grid = parameters,   # hyperparameters\n",
    "                   scoring='accuracy',        # metric for scoring\n",
    "                   cv=10)\n",
    "clf.fit(X_train_new,y_train)\n",
    "print(\"Tuned Hyperparameters :\", clf.best_params_)\n",
    "print(\"Accuracy :\",clf.best_score_)"
   ]
  },
  {
   "cell_type": "code",
   "execution_count": 32,
   "id": "bd78fb56",
   "metadata": {},
   "outputs": [
    {
     "name": "stdout",
     "output_type": "stream",
     "text": [
      "Logistic Regression accuracy score:85.14%\n",
      "Logistic Regression ROC score:76.49%\n"
     ]
    }
   ],
   "source": [
    "model_logr = LogisticRegression(solver=\"liblinear\",C=0.01,penalty='l2')\n",
    "model_logr.fit(X_train_new, y_train)\n",
    "pred_logr = model_logr.predict(X_test_new)\n",
    "ac_lr_tuned=accuracy_score(y_test, pred_logr)\n",
    "roc_logr_tuned =roc_auc_score(y_test,pred_logr)\n",
    "print('Logistic Regression accuracy score:{0:0.2f}%'. format(ac_lr_tuned*100))\n",
    "print('Logistic Regression ROC score:{0:0.2f}%'. format(roc_logr_tuned*100))    "
   ]
  },
  {
   "cell_type": "markdown",
   "id": "786e9093",
   "metadata": {},
   "source": [
    "# Final Report"
   ]
  },
  {
   "cell_type": "code",
   "execution_count": 46,
   "id": "f8cc6ade",
   "metadata": {},
   "outputs": [
    {
     "data": {
      "text/html": [
       "<div>\n",
       "<style scoped>\n",
       "    .dataframe tbody tr th:only-of-type {\n",
       "        vertical-align: middle;\n",
       "    }\n",
       "\n",
       "    .dataframe tbody tr th {\n",
       "        vertical-align: top;\n",
       "    }\n",
       "\n",
       "    .dataframe thead th {\n",
       "        text-align: right;\n",
       "    }\n",
       "</style>\n",
       "<table border=\"1\" class=\"dataframe\">\n",
       "  <thead>\n",
       "    <tr style=\"text-align: right;\">\n",
       "      <th></th>\n",
       "      <th>Model</th>\n",
       "      <th>Accuracy</th>\n",
       "      <th>ROC</th>\n",
       "    </tr>\n",
       "  </thead>\n",
       "  <tbody>\n",
       "    <tr>\n",
       "      <th>0</th>\n",
       "      <td>SVC</td>\n",
       "      <td>0.853411</td>\n",
       "      <td>0.763306</td>\n",
       "    </tr>\n",
       "    <tr>\n",
       "      <th>1</th>\n",
       "      <td>SVC Hyper_Tuned</td>\n",
       "      <td>0.852489</td>\n",
       "      <td>0.760369</td>\n",
       "    </tr>\n",
       "    <tr>\n",
       "      <th>2</th>\n",
       "      <td>Logistic Regression</td>\n",
       "      <td>0.851414</td>\n",
       "      <td>0.764309</td>\n",
       "    </tr>\n",
       "    <tr>\n",
       "      <th>3</th>\n",
       "      <td>Logistic Regression Hyper_Tuned</td>\n",
       "      <td>0.851414</td>\n",
       "      <td>0.764944</td>\n",
       "    </tr>\n",
       "  </tbody>\n",
       "</table>\n",
       "</div>"
      ],
      "text/plain": [
       "                             Model  Accuracy       ROC\n",
       "0                              SVC  0.853411  0.763306\n",
       "1                  SVC Hyper_Tuned  0.852489  0.760369\n",
       "2              Logistic Regression  0.851414  0.764309\n",
       "3  Logistic Regression Hyper_Tuned  0.851414  0.764944"
      ]
     },
     "execution_count": 46,
     "metadata": {},
     "output_type": "execute_result"
    }
   ],
   "source": [
    "results = pd.DataFrame({\n",
    "    'Model': ['Logistic Regression','SVC','Logistic Regression Hyper_Tuned','SVC Hyper_Tuned'],\n",
    "    'Accuracy': [ac_lr,ac_svc,ac_lr_tuned,ac_svc_tuned],\n",
    "    'ROC': [roc_logr,roc_svc,roc_logr_tuned,roc_svc_tuned]\n",
    "    })                \n",
    "result_df = results.sort_values(by='Accuracy', ascending=False)\n",
    "result_df = result_df.set_index('Model')\n",
    "result_df.head(5).reset_index()"
   ]
  },
  {
   "cell_type": "markdown",
   "id": "fe582250",
   "metadata": {},
   "source": [
    "# Roc_curve for Logistic Regression Model"
   ]
  },
  {
   "cell_type": "markdown",
   "id": "a3c73069",
   "metadata": {},
   "source": [
    "# No we will focus on selecting the best threshold for maximum accuracy"
   ]
  },
  {
   "cell_type": "code",
   "execution_count": 37,
   "id": "c44beada",
   "metadata": {},
   "outputs": [
    {
     "name": "stdout",
     "output_type": "stream",
     "text": [
      "Logistic train roc-auc: 0.9041561798139869\n",
      "Logistic test roc-auc: 0.9034256039120604\n"
     ]
    }
   ],
   "source": [
    "ytrain_pred = clf_logreg.predict_proba(X_train_new)\n",
    "print('Logistic train roc-auc: {}'.format(roc_auc_score(y_train, ytrain_pred[:,1])))\n",
    "ytest_pred = clf_logreg.predict_proba(X_test_new)\n",
    "print('Logistic test roc-auc: {}'.format(roc_auc_score(y_test, ytest_pred[:,1])))"
   ]
  },
  {
   "cell_type": "code",
   "execution_count": 41,
   "id": "51f5caaa",
   "metadata": {},
   "outputs": [
    {
     "name": "stdout",
     "output_type": "stream",
     "text": [
      "Ensemble test roc-auc: 0.9034256039120604\n"
     ]
    }
   ],
   "source": [
    "pred=[]\n",
    "for model in [clf_logreg]:\n",
    "    pred.append(pd.Series(model.predict_proba(X_test_new)[:,1]))\n",
    "final_prediction=pd.concat(pred,axis=1).mean(axis=1)\n",
    "print('Ensemble test roc-auc: {}'.format(roc_auc_score(y_test,final_prediction)))"
   ]
  },
  {
   "cell_type": "code",
   "execution_count": 42,
   "id": "037098a3",
   "metadata": {},
   "outputs": [
    {
     "data": {
      "text/plain": [
       "array([2.00000000e+00, 1.00000000e+00, 1.00000000e+00, ...,\n",
       "       1.79803901e-03, 1.79716660e-03, 1.97425814e-08])"
      ]
     },
     "execution_count": 42,
     "metadata": {},
     "output_type": "execute_result"
    }
   ],
   "source": [
    "#### Calculate the ROc Curve\n",
    "fpr, tpr, thresholds = roc_curve(y_test, final_prediction)\n",
    "thresholds"
   ]
  },
  {
   "cell_type": "code",
   "execution_count": 43,
   "id": "cc097c84",
   "metadata": {},
   "outputs": [
    {
     "data": {
      "text/html": [
       "<div>\n",
       "<style scoped>\n",
       "    .dataframe tbody tr th:only-of-type {\n",
       "        vertical-align: middle;\n",
       "    }\n",
       "\n",
       "    .dataframe tbody tr th {\n",
       "        vertical-align: top;\n",
       "    }\n",
       "\n",
       "    .dataframe thead th {\n",
       "        text-align: right;\n",
       "    }\n",
       "</style>\n",
       "<table border=\"1\" class=\"dataframe\">\n",
       "  <thead>\n",
       "    <tr style=\"text-align: right;\">\n",
       "      <th></th>\n",
       "      <th>thresholds</th>\n",
       "      <th>accuracy</th>\n",
       "    </tr>\n",
       "  </thead>\n",
       "  <tbody>\n",
       "    <tr>\n",
       "      <th>456</th>\n",
       "      <td>0.481508</td>\n",
       "      <td>0.852643</td>\n",
       "    </tr>\n",
       "    <tr>\n",
       "      <th>457</th>\n",
       "      <td>0.480872</td>\n",
       "      <td>0.852489</td>\n",
       "    </tr>\n",
       "    <tr>\n",
       "      <th>442</th>\n",
       "      <td>0.489634</td>\n",
       "      <td>0.852489</td>\n",
       "    </tr>\n",
       "    <tr>\n",
       "      <th>455</th>\n",
       "      <td>0.482054</td>\n",
       "      <td>0.852489</td>\n",
       "    </tr>\n",
       "    <tr>\n",
       "      <th>454</th>\n",
       "      <td>0.482275</td>\n",
       "      <td>0.852489</td>\n",
       "    </tr>\n",
       "  </tbody>\n",
       "</table>\n",
       "</div>"
      ],
      "text/plain": [
       "     thresholds  accuracy\n",
       "456    0.481508  0.852643\n",
       "457    0.480872  0.852489\n",
       "442    0.489634  0.852489\n",
       "455    0.482054  0.852489\n",
       "454    0.482275  0.852489"
      ]
     },
     "execution_count": 43,
     "metadata": {},
     "output_type": "execute_result"
    }
   ],
   "source": [
    "from sklearn.metrics import accuracy_score\n",
    "accuracy_ls = []\n",
    "for thres in thresholds:\n",
    "    y_pred = np.where(final_prediction>thres,1,0)\n",
    "    accuracy_ls.append(accuracy_score(y_test, y_pred, normalize=True))\n",
    "    \n",
    "accuracy_ls = pd.concat([pd.Series(thresholds), pd.Series(accuracy_ls)],\n",
    "                        axis=1)\n",
    "accuracy_ls.columns = ['thresholds', 'accuracy']\n",
    "accuracy_ls.sort_values(by='accuracy', ascending=False, inplace=True)\n",
    "accuracy_ls.head()"
   ]
  },
  {
   "cell_type": "code",
   "execution_count": 44,
   "id": "2eeca3db",
   "metadata": {},
   "outputs": [],
   "source": [
    "def plot_roc_curve(fpr, tpr):\n",
    "    plt.plot(fpr, tpr, color='orange', label='ROC')\n",
    "    plt.plot([0, 1], [0, 1], color='darkblue', linestyle='--')\n",
    "    plt.xlabel('False Positive Rate')\n",
    "    plt.ylabel('True Positive Rate')\n",
    "    plt.title('Receiver Operating Characteristic (ROC) Curve')\n",
    "    plt.legend()\n",
    "    plt.show()"
   ]
  },
  {
   "cell_type": "code",
   "execution_count": 47,
   "id": "0d665e59",
   "metadata": {},
   "outputs": [
    {
     "data": {
      "image/png": "[encoded data removed]",
      "text/plain": [
       "<Figure size 432x288 with 1 Axes>"
      ]
     },
     "metadata": {
      "needs_background": "light"
     },
     "output_type": "display_data"
    }
   ],
   "source": [
    "plot_roc_curve(fpr,tpr)"
   ]
  },
  {
   "cell_type": "code",
   "execution_count": null,
   "id": "46d73db7",
   "metadata": {},
   "outputs": [],
   "source": []
  }
 ],
 "metadata": {
  "kernelspec": {
   "display_name": "Python 3 (ipykernel)",
   "language": "python",
   "name": "python3"
  },
  "language_info": {
   "codemirror_mode": {
    "name": "ipython",
    "version": 3
   },
   "file_extension": ".py",
   "mimetype": "text/x-python",
   "name": "python",
   "nbconvert_exporter": "python",
   "pygments_lexer": "ipython3",
   "version": "3.9.12"
  }
 },
 "nbformat": 4,
 "nbformat_minor": 5
}
